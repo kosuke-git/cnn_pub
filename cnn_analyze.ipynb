{
  "nbformat": 4,
  "nbformat_minor": 0,
  "metadata": {
    "colab": {
      "name": "cnn_analyze",
      "provenance": [],
      "collapsed_sections": [],
      "toc_visible": true,
      "mount_file_id": "1toFT6avHArhwhFdkuJEj4zcfMqZwjmHX",
      "authorship_tag": "ABX9TyOIPJpFDUVnu/SqNkA8s7y1"
    },
    "kernelspec": {
      "name": "python3",
      "display_name": "Python 3"
    },
    "language_info": {
      "name": "python"
    },
    "accelerator": "GPU",
    "widgets": {
      "application/vnd.jupyter.widget-state+json": {
        "52c4ce6b74a5434bb479e872423c5e26": {
          "model_module": "@jupyter-widgets/controls",
          "model_name": "HBoxModel",
          "model_module_version": "1.5.0",
          "state": {
            "_dom_classes": [],
            "_model_module": "@jupyter-widgets/controls",
            "_model_module_version": "1.5.0",
            "_model_name": "HBoxModel",
            "_view_count": null,
            "_view_module": "@jupyter-widgets/controls",
            "_view_module_version": "1.5.0",
            "_view_name": "HBoxView",
            "box_style": "",
            "children": [
              "IPY_MODEL_7ae24ef60f8e4fb794a3e1bf98c9f4c0",
              "IPY_MODEL_9003075c518c4c6fb92a3a865cfdde0d",
              "IPY_MODEL_7ba92e1e77624898bfbf42ae32a0169b"
            ],
            "layout": "IPY_MODEL_a86166c54b6040cc97d6e51ce5421969"
          }
        },
        "7ae24ef60f8e4fb794a3e1bf98c9f4c0": {
          "model_module": "@jupyter-widgets/controls",
          "model_name": "HTMLModel",
          "model_module_version": "1.5.0",
          "state": {
            "_dom_classes": [],
            "_model_module": "@jupyter-widgets/controls",
            "_model_module_version": "1.5.0",
            "_model_name": "HTMLModel",
            "_view_count": null,
            "_view_module": "@jupyter-widgets/controls",
            "_view_module_version": "1.5.0",
            "_view_name": "HTMLView",
            "description": "",
            "description_tooltip": null,
            "layout": "IPY_MODEL_3c781194406247f99deddf5e8335f056",
            "placeholder": "​",
            "style": "IPY_MODEL_28436f3b0e62480fbf3183f5f218bf45",
            "value": "100%"
          }
        },
        "9003075c518c4c6fb92a3a865cfdde0d": {
          "model_module": "@jupyter-widgets/controls",
          "model_name": "FloatProgressModel",
          "model_module_version": "1.5.0",
          "state": {
            "_dom_classes": [],
            "_model_module": "@jupyter-widgets/controls",
            "_model_module_version": "1.5.0",
            "_model_name": "FloatProgressModel",
            "_view_count": null,
            "_view_module": "@jupyter-widgets/controls",
            "_view_module_version": "1.5.0",
            "_view_name": "ProgressView",
            "bar_style": "success",
            "description": "",
            "description_tooltip": null,
            "layout": "IPY_MODEL_5d9fc2c14bdb4795bc2e3af6448953c5",
            "max": 74334,
            "min": 0,
            "orientation": "horizontal",
            "style": "IPY_MODEL_c71a2c115a544f5c8de74c4289f9a1e6",
            "value": 74334
          }
        },
        "7ba92e1e77624898bfbf42ae32a0169b": {
          "model_module": "@jupyter-widgets/controls",
          "model_name": "HTMLModel",
          "model_module_version": "1.5.0",
          "state": {
            "_dom_classes": [],
            "_model_module": "@jupyter-widgets/controls",
            "_model_module_version": "1.5.0",
            "_model_name": "HTMLModel",
            "_view_count": null,
            "_view_module": "@jupyter-widgets/controls",
            "_view_module_version": "1.5.0",
            "_view_name": "HTMLView",
            "description": "",
            "description_tooltip": null,
            "layout": "IPY_MODEL_a7df44ff4f22439fadda6341af825027",
            "placeholder": "​",
            "style": "IPY_MODEL_d223f9199cef4207a52645913ce6830a",
            "value": " 74334/74334 [00:00&lt;00:00, 105969.34it/s]"
          }
        },
        "a86166c54b6040cc97d6e51ce5421969": {
          "model_module": "@jupyter-widgets/base",
          "model_name": "LayoutModel",
          "model_module_version": "1.2.0",
          "state": {
            "_model_module": "@jupyter-widgets/base",
            "_model_module_version": "1.2.0",
            "_model_name": "LayoutModel",
            "_view_count": null,
            "_view_module": "@jupyter-widgets/base",
            "_view_module_version": "1.2.0",
            "_view_name": "LayoutView",
            "align_content": null,
            "align_items": null,
            "align_self": null,
            "border": null,
            "bottom": null,
            "display": null,
            "flex": null,
            "flex_flow": null,
            "grid_area": null,
            "grid_auto_columns": null,
            "grid_auto_flow": null,
            "grid_auto_rows": null,
            "grid_column": null,
            "grid_gap": null,
            "grid_row": null,
            "grid_template_areas": null,
            "grid_template_columns": null,
            "grid_template_rows": null,
            "height": null,
            "justify_content": null,
            "justify_items": null,
            "left": null,
            "margin": null,
            "max_height": null,
            "max_width": null,
            "min_height": null,
            "min_width": null,
            "object_fit": null,
            "object_position": null,
            "order": null,
            "overflow": null,
            "overflow_x": null,
            "overflow_y": null,
            "padding": null,
            "right": null,
            "top": null,
            "visibility": null,
            "width": null
          }
        },
        "3c781194406247f99deddf5e8335f056": {
          "model_module": "@jupyter-widgets/base",
          "model_name": "LayoutModel",
          "model_module_version": "1.2.0",
          "state": {
            "_model_module": "@jupyter-widgets/base",
            "_model_module_version": "1.2.0",
            "_model_name": "LayoutModel",
            "_view_count": null,
            "_view_module": "@jupyter-widgets/base",
            "_view_module_version": "1.2.0",
            "_view_name": "LayoutView",
            "align_content": null,
            "align_items": null,
            "align_self": null,
            "border": null,
            "bottom": null,
            "display": null,
            "flex": null,
            "flex_flow": null,
            "grid_area": null,
            "grid_auto_columns": null,
            "grid_auto_flow": null,
            "grid_auto_rows": null,
            "grid_column": null,
            "grid_gap": null,
            "grid_row": null,
            "grid_template_areas": null,
            "grid_template_columns": null,
            "grid_template_rows": null,
            "height": null,
            "justify_content": null,
            "justify_items": null,
            "left": null,
            "margin": null,
            "max_height": null,
            "max_width": null,
            "min_height": null,
            "min_width": null,
            "object_fit": null,
            "object_position": null,
            "order": null,
            "overflow": null,
            "overflow_x": null,
            "overflow_y": null,
            "padding": null,
            "right": null,
            "top": null,
            "visibility": null,
            "width": null
          }
        },
        "28436f3b0e62480fbf3183f5f218bf45": {
          "model_module": "@jupyter-widgets/controls",
          "model_name": "DescriptionStyleModel",
          "model_module_version": "1.5.0",
          "state": {
            "_model_module": "@jupyter-widgets/controls",
            "_model_module_version": "1.5.0",
            "_model_name": "DescriptionStyleModel",
            "_view_count": null,
            "_view_module": "@jupyter-widgets/base",
            "_view_module_version": "1.2.0",
            "_view_name": "StyleView",
            "description_width": ""
          }
        },
        "5d9fc2c14bdb4795bc2e3af6448953c5": {
          "model_module": "@jupyter-widgets/base",
          "model_name": "LayoutModel",
          "model_module_version": "1.2.0",
          "state": {
            "_model_module": "@jupyter-widgets/base",
            "_model_module_version": "1.2.0",
            "_model_name": "LayoutModel",
            "_view_count": null,
            "_view_module": "@jupyter-widgets/base",
            "_view_module_version": "1.2.0",
            "_view_name": "LayoutView",
            "align_content": null,
            "align_items": null,
            "align_self": null,
            "border": null,
            "bottom": null,
            "display": null,
            "flex": null,
            "flex_flow": null,
            "grid_area": null,
            "grid_auto_columns": null,
            "grid_auto_flow": null,
            "grid_auto_rows": null,
            "grid_column": null,
            "grid_gap": null,
            "grid_row": null,
            "grid_template_areas": null,
            "grid_template_columns": null,
            "grid_template_rows": null,
            "height": null,
            "justify_content": null,
            "justify_items": null,
            "left": null,
            "margin": null,
            "max_height": null,
            "max_width": null,
            "min_height": null,
            "min_width": null,
            "object_fit": null,
            "object_position": null,
            "order": null,
            "overflow": null,
            "overflow_x": null,
            "overflow_y": null,
            "padding": null,
            "right": null,
            "top": null,
            "visibility": null,
            "width": null
          }
        },
        "c71a2c115a544f5c8de74c4289f9a1e6": {
          "model_module": "@jupyter-widgets/controls",
          "model_name": "ProgressStyleModel",
          "model_module_version": "1.5.0",
          "state": {
            "_model_module": "@jupyter-widgets/controls",
            "_model_module_version": "1.5.0",
            "_model_name": "ProgressStyleModel",
            "_view_count": null,
            "_view_module": "@jupyter-widgets/base",
            "_view_module_version": "1.2.0",
            "_view_name": "StyleView",
            "bar_color": null,
            "description_width": ""
          }
        },
        "a7df44ff4f22439fadda6341af825027": {
          "model_module": "@jupyter-widgets/base",
          "model_name": "LayoutModel",
          "model_module_version": "1.2.0",
          "state": {
            "_model_module": "@jupyter-widgets/base",
            "_model_module_version": "1.2.0",
            "_model_name": "LayoutModel",
            "_view_count": null,
            "_view_module": "@jupyter-widgets/base",
            "_view_module_version": "1.2.0",
            "_view_name": "LayoutView",
            "align_content": null,
            "align_items": null,
            "align_self": null,
            "border": null,
            "bottom": null,
            "display": null,
            "flex": null,
            "flex_flow": null,
            "grid_area": null,
            "grid_auto_columns": null,
            "grid_auto_flow": null,
            "grid_auto_rows": null,
            "grid_column": null,
            "grid_gap": null,
            "grid_row": null,
            "grid_template_areas": null,
            "grid_template_columns": null,
            "grid_template_rows": null,
            "height": null,
            "justify_content": null,
            "justify_items": null,
            "left": null,
            "margin": null,
            "max_height": null,
            "max_width": null,
            "min_height": null,
            "min_width": null,
            "object_fit": null,
            "object_position": null,
            "order": null,
            "overflow": null,
            "overflow_x": null,
            "overflow_y": null,
            "padding": null,
            "right": null,
            "top": null,
            "visibility": null,
            "width": null
          }
        },
        "d223f9199cef4207a52645913ce6830a": {
          "model_module": "@jupyter-widgets/controls",
          "model_name": "DescriptionStyleModel",
          "model_module_version": "1.5.0",
          "state": {
            "_model_module": "@jupyter-widgets/controls",
            "_model_module_version": "1.5.0",
            "_model_name": "DescriptionStyleModel",
            "_view_count": null,
            "_view_module": "@jupyter-widgets/base",
            "_view_module_version": "1.2.0",
            "_view_name": "StyleView",
            "description_width": ""
          }
        },
        "9e082989c9604f32a7d007c78226f977": {
          "model_module": "@jupyter-widgets/controls",
          "model_name": "HBoxModel",
          "model_module_version": "1.5.0",
          "state": {
            "_dom_classes": [],
            "_model_module": "@jupyter-widgets/controls",
            "_model_module_version": "1.5.0",
            "_model_name": "HBoxModel",
            "_view_count": null,
            "_view_module": "@jupyter-widgets/controls",
            "_view_module_version": "1.5.0",
            "_view_name": "HBoxView",
            "box_style": "",
            "children": [
              "IPY_MODEL_e9bf9ff7a78a42bda928ce5b48225a6f",
              "IPY_MODEL_8f788cbf447542a894f73d1de33576b9",
              "IPY_MODEL_972b7d02c8544005b5979c83a5175f1c"
            ],
            "layout": "IPY_MODEL_5aca222613194bc282b0f8c8344d1c49"
          }
        },
        "e9bf9ff7a78a42bda928ce5b48225a6f": {
          "model_module": "@jupyter-widgets/controls",
          "model_name": "HTMLModel",
          "model_module_version": "1.5.0",
          "state": {
            "_dom_classes": [],
            "_model_module": "@jupyter-widgets/controls",
            "_model_module_version": "1.5.0",
            "_model_name": "HTMLModel",
            "_view_count": null,
            "_view_module": "@jupyter-widgets/controls",
            "_view_module_version": "1.5.0",
            "_view_name": "HTMLView",
            "description": "",
            "description_tooltip": null,
            "layout": "IPY_MODEL_eba65a8fa08248a09c5f0ad64552795b",
            "placeholder": "​",
            "style": "IPY_MODEL_14ae1825d8d34cecaca14eb520a4637f",
            "value": "100%"
          }
        },
        "8f788cbf447542a894f73d1de33576b9": {
          "model_module": "@jupyter-widgets/controls",
          "model_name": "FloatProgressModel",
          "model_module_version": "1.5.0",
          "state": {
            "_dom_classes": [],
            "_model_module": "@jupyter-widgets/controls",
            "_model_module_version": "1.5.0",
            "_model_name": "FloatProgressModel",
            "_view_count": null,
            "_view_module": "@jupyter-widgets/controls",
            "_view_module_version": "1.5.0",
            "_view_name": "ProgressView",
            "bar_style": "success",
            "description": "",
            "description_tooltip": null,
            "layout": "IPY_MODEL_020b54a58c894e9ba08cc7c79bd22f47",
            "max": 74555,
            "min": 0,
            "orientation": "horizontal",
            "style": "IPY_MODEL_cd34d00dd993420fb933bda1ede90566",
            "value": 74555
          }
        },
        "972b7d02c8544005b5979c83a5175f1c": {
          "model_module": "@jupyter-widgets/controls",
          "model_name": "HTMLModel",
          "model_module_version": "1.5.0",
          "state": {
            "_dom_classes": [],
            "_model_module": "@jupyter-widgets/controls",
            "_model_module_version": "1.5.0",
            "_model_name": "HTMLModel",
            "_view_count": null,
            "_view_module": "@jupyter-widgets/controls",
            "_view_module_version": "1.5.0",
            "_view_name": "HTMLView",
            "description": "",
            "description_tooltip": null,
            "layout": "IPY_MODEL_84fd33529a164c30b68d45d8a182bc76",
            "placeholder": "​",
            "style": "IPY_MODEL_402286dd7243480c9687076af7be4ce4",
            "value": " 74555/74555 [01:03&lt;00:00, 1102.89it/s]"
          }
        },
        "5aca222613194bc282b0f8c8344d1c49": {
          "model_module": "@jupyter-widgets/base",
          "model_name": "LayoutModel",
          "model_module_version": "1.2.0",
          "state": {
            "_model_module": "@jupyter-widgets/base",
            "_model_module_version": "1.2.0",
            "_model_name": "LayoutModel",
            "_view_count": null,
            "_view_module": "@jupyter-widgets/base",
            "_view_module_version": "1.2.0",
            "_view_name": "LayoutView",
            "align_content": null,
            "align_items": null,
            "align_self": null,
            "border": null,
            "bottom": null,
            "display": null,
            "flex": null,
            "flex_flow": null,
            "grid_area": null,
            "grid_auto_columns": null,
            "grid_auto_flow": null,
            "grid_auto_rows": null,
            "grid_column": null,
            "grid_gap": null,
            "grid_row": null,
            "grid_template_areas": null,
            "grid_template_columns": null,
            "grid_template_rows": null,
            "height": null,
            "justify_content": null,
            "justify_items": null,
            "left": null,
            "margin": null,
            "max_height": null,
            "max_width": null,
            "min_height": null,
            "min_width": null,
            "object_fit": null,
            "object_position": null,
            "order": null,
            "overflow": null,
            "overflow_x": null,
            "overflow_y": null,
            "padding": null,
            "right": null,
            "top": null,
            "visibility": null,
            "width": null
          }
        },
        "eba65a8fa08248a09c5f0ad64552795b": {
          "model_module": "@jupyter-widgets/base",
          "model_name": "LayoutModel",
          "model_module_version": "1.2.0",
          "state": {
            "_model_module": "@jupyter-widgets/base",
            "_model_module_version": "1.2.0",
            "_model_name": "LayoutModel",
            "_view_count": null,
            "_view_module": "@jupyter-widgets/base",
            "_view_module_version": "1.2.0",
            "_view_name": "LayoutView",
            "align_content": null,
            "align_items": null,
            "align_self": null,
            "border": null,
            "bottom": null,
            "display": null,
            "flex": null,
            "flex_flow": null,
            "grid_area": null,
            "grid_auto_columns": null,
            "grid_auto_flow": null,
            "grid_auto_rows": null,
            "grid_column": null,
            "grid_gap": null,
            "grid_row": null,
            "grid_template_areas": null,
            "grid_template_columns": null,
            "grid_template_rows": null,
            "height": null,
            "justify_content": null,
            "justify_items": null,
            "left": null,
            "margin": null,
            "max_height": null,
            "max_width": null,
            "min_height": null,
            "min_width": null,
            "object_fit": null,
            "object_position": null,
            "order": null,
            "overflow": null,
            "overflow_x": null,
            "overflow_y": null,
            "padding": null,
            "right": null,
            "top": null,
            "visibility": null,
            "width": null
          }
        },
        "14ae1825d8d34cecaca14eb520a4637f": {
          "model_module": "@jupyter-widgets/controls",
          "model_name": "DescriptionStyleModel",
          "model_module_version": "1.5.0",
          "state": {
            "_model_module": "@jupyter-widgets/controls",
            "_model_module_version": "1.5.0",
            "_model_name": "DescriptionStyleModel",
            "_view_count": null,
            "_view_module": "@jupyter-widgets/base",
            "_view_module_version": "1.2.0",
            "_view_name": "StyleView",
            "description_width": ""
          }
        },
        "020b54a58c894e9ba08cc7c79bd22f47": {
          "model_module": "@jupyter-widgets/base",
          "model_name": "LayoutModel",
          "model_module_version": "1.2.0",
          "state": {
            "_model_module": "@jupyter-widgets/base",
            "_model_module_version": "1.2.0",
            "_model_name": "LayoutModel",
            "_view_count": null,
            "_view_module": "@jupyter-widgets/base",
            "_view_module_version": "1.2.0",
            "_view_name": "LayoutView",
            "align_content": null,
            "align_items": null,
            "align_self": null,
            "border": null,
            "bottom": null,
            "display": null,
            "flex": null,
            "flex_flow": null,
            "grid_area": null,
            "grid_auto_columns": null,
            "grid_auto_flow": null,
            "grid_auto_rows": null,
            "grid_column": null,
            "grid_gap": null,
            "grid_row": null,
            "grid_template_areas": null,
            "grid_template_columns": null,
            "grid_template_rows": null,
            "height": null,
            "justify_content": null,
            "justify_items": null,
            "left": null,
            "margin": null,
            "max_height": null,
            "max_width": null,
            "min_height": null,
            "min_width": null,
            "object_fit": null,
            "object_position": null,
            "order": null,
            "overflow": null,
            "overflow_x": null,
            "overflow_y": null,
            "padding": null,
            "right": null,
            "top": null,
            "visibility": null,
            "width": null
          }
        },
        "cd34d00dd993420fb933bda1ede90566": {
          "model_module": "@jupyter-widgets/controls",
          "model_name": "ProgressStyleModel",
          "model_module_version": "1.5.0",
          "state": {
            "_model_module": "@jupyter-widgets/controls",
            "_model_module_version": "1.5.0",
            "_model_name": "ProgressStyleModel",
            "_view_count": null,
            "_view_module": "@jupyter-widgets/base",
            "_view_module_version": "1.2.0",
            "_view_name": "StyleView",
            "bar_color": null,
            "description_width": ""
          }
        },
        "84fd33529a164c30b68d45d8a182bc76": {
          "model_module": "@jupyter-widgets/base",
          "model_name": "LayoutModel",
          "model_module_version": "1.2.0",
          "state": {
            "_model_module": "@jupyter-widgets/base",
            "_model_module_version": "1.2.0",
            "_model_name": "LayoutModel",
            "_view_count": null,
            "_view_module": "@jupyter-widgets/base",
            "_view_module_version": "1.2.0",
            "_view_name": "LayoutView",
            "align_content": null,
            "align_items": null,
            "align_self": null,
            "border": null,
            "bottom": null,
            "display": null,
            "flex": null,
            "flex_flow": null,
            "grid_area": null,
            "grid_auto_columns": null,
            "grid_auto_flow": null,
            "grid_auto_rows": null,
            "grid_column": null,
            "grid_gap": null,
            "grid_row": null,
            "grid_template_areas": null,
            "grid_template_columns": null,
            "grid_template_rows": null,
            "height": null,
            "justify_content": null,
            "justify_items": null,
            "left": null,
            "margin": null,
            "max_height": null,
            "max_width": null,
            "min_height": null,
            "min_width": null,
            "object_fit": null,
            "object_position": null,
            "order": null,
            "overflow": null,
            "overflow_x": null,
            "overflow_y": null,
            "padding": null,
            "right": null,
            "top": null,
            "visibility": null,
            "width": null
          }
        },
        "402286dd7243480c9687076af7be4ce4": {
          "model_module": "@jupyter-widgets/controls",
          "model_name": "DescriptionStyleModel",
          "model_module_version": "1.5.0",
          "state": {
            "_model_module": "@jupyter-widgets/controls",
            "_model_module_version": "1.5.0",
            "_model_name": "DescriptionStyleModel",
            "_view_count": null,
            "_view_module": "@jupyter-widgets/base",
            "_view_module_version": "1.2.0",
            "_view_name": "StyleView",
            "description_width": ""
          }
        },
        "fdf2ecdc08f643d0bbfa69ada669ea16": {
          "model_module": "@jupyter-widgets/controls",
          "model_name": "HBoxModel",
          "model_module_version": "1.5.0",
          "state": {
            "_dom_classes": [],
            "_model_module": "@jupyter-widgets/controls",
            "_model_module_version": "1.5.0",
            "_model_name": "HBoxModel",
            "_view_count": null,
            "_view_module": "@jupyter-widgets/controls",
            "_view_module_version": "1.5.0",
            "_view_name": "HBoxView",
            "box_style": "",
            "children": [
              "IPY_MODEL_94b97da990674a6eb4b4e07750616444",
              "IPY_MODEL_5247d7088961463b8297753c577ee349",
              "IPY_MODEL_17e3a2e9c834408c88df91534b87e174"
            ],
            "layout": "IPY_MODEL_355989e57e524270bd34ec0789583085"
          }
        },
        "94b97da990674a6eb4b4e07750616444": {
          "model_module": "@jupyter-widgets/controls",
          "model_name": "HTMLModel",
          "model_module_version": "1.5.0",
          "state": {
            "_dom_classes": [],
            "_model_module": "@jupyter-widgets/controls",
            "_model_module_version": "1.5.0",
            "_model_name": "HTMLModel",
            "_view_count": null,
            "_view_module": "@jupyter-widgets/controls",
            "_view_module_version": "1.5.0",
            "_view_name": "HTMLView",
            "description": "",
            "description_tooltip": null,
            "layout": "IPY_MODEL_de28a7ce8ae246c594f8e43d27cedad4",
            "placeholder": "​",
            "style": "IPY_MODEL_42edeb5a9da94dbc9c61e10584fddc34",
            "value": "100%"
          }
        },
        "5247d7088961463b8297753c577ee349": {
          "model_module": "@jupyter-widgets/controls",
          "model_name": "FloatProgressModel",
          "model_module_version": "1.5.0",
          "state": {
            "_dom_classes": [],
            "_model_module": "@jupyter-widgets/controls",
            "_model_module_version": "1.5.0",
            "_model_name": "FloatProgressModel",
            "_view_count": null,
            "_view_module": "@jupyter-widgets/controls",
            "_view_module_version": "1.5.0",
            "_view_name": "ProgressView",
            "bar_style": "success",
            "description": "",
            "description_tooltip": null,
            "layout": "IPY_MODEL_85f2c1179d314185b42eb6d3ce8c61c8",
            "max": 74555,
            "min": 0,
            "orientation": "horizontal",
            "style": "IPY_MODEL_d18775ae73c347789f1d1cfa7340ba27",
            "value": 74555
          }
        },
        "17e3a2e9c834408c88df91534b87e174": {
          "model_module": "@jupyter-widgets/controls",
          "model_name": "HTMLModel",
          "model_module_version": "1.5.0",
          "state": {
            "_dom_classes": [],
            "_model_module": "@jupyter-widgets/controls",
            "_model_module_version": "1.5.0",
            "_model_name": "HTMLModel",
            "_view_count": null,
            "_view_module": "@jupyter-widgets/controls",
            "_view_module_version": "1.5.0",
            "_view_name": "HTMLView",
            "description": "",
            "description_tooltip": null,
            "layout": "IPY_MODEL_4833d2bbe6a640b6921353ae434b2987",
            "placeholder": "​",
            "style": "IPY_MODEL_eafe411f78ad48fb8805b1a5b84fc6f1",
            "value": " 74555/74555 [00:57&lt;00:00, 1322.23it/s]"
          }
        },
        "355989e57e524270bd34ec0789583085": {
          "model_module": "@jupyter-widgets/base",
          "model_name": "LayoutModel",
          "model_module_version": "1.2.0",
          "state": {
            "_model_module": "@jupyter-widgets/base",
            "_model_module_version": "1.2.0",
            "_model_name": "LayoutModel",
            "_view_count": null,
            "_view_module": "@jupyter-widgets/base",
            "_view_module_version": "1.2.0",
            "_view_name": "LayoutView",
            "align_content": null,
            "align_items": null,
            "align_self": null,
            "border": null,
            "bottom": null,
            "display": null,
            "flex": null,
            "flex_flow": null,
            "grid_area": null,
            "grid_auto_columns": null,
            "grid_auto_flow": null,
            "grid_auto_rows": null,
            "grid_column": null,
            "grid_gap": null,
            "grid_row": null,
            "grid_template_areas": null,
            "grid_template_columns": null,
            "grid_template_rows": null,
            "height": null,
            "justify_content": null,
            "justify_items": null,
            "left": null,
            "margin": null,
            "max_height": null,
            "max_width": null,
            "min_height": null,
            "min_width": null,
            "object_fit": null,
            "object_position": null,
            "order": null,
            "overflow": null,
            "overflow_x": null,
            "overflow_y": null,
            "padding": null,
            "right": null,
            "top": null,
            "visibility": null,
            "width": null
          }
        },
        "de28a7ce8ae246c594f8e43d27cedad4": {
          "model_module": "@jupyter-widgets/base",
          "model_name": "LayoutModel",
          "model_module_version": "1.2.0",
          "state": {
            "_model_module": "@jupyter-widgets/base",
            "_model_module_version": "1.2.0",
            "_model_name": "LayoutModel",
            "_view_count": null,
            "_view_module": "@jupyter-widgets/base",
            "_view_module_version": "1.2.0",
            "_view_name": "LayoutView",
            "align_content": null,
            "align_items": null,
            "align_self": null,
            "border": null,
            "bottom": null,
            "display": null,
            "flex": null,
            "flex_flow": null,
            "grid_area": null,
            "grid_auto_columns": null,
            "grid_auto_flow": null,
            "grid_auto_rows": null,
            "grid_column": null,
            "grid_gap": null,
            "grid_row": null,
            "grid_template_areas": null,
            "grid_template_columns": null,
            "grid_template_rows": null,
            "height": null,
            "justify_content": null,
            "justify_items": null,
            "left": null,
            "margin": null,
            "max_height": null,
            "max_width": null,
            "min_height": null,
            "min_width": null,
            "object_fit": null,
            "object_position": null,
            "order": null,
            "overflow": null,
            "overflow_x": null,
            "overflow_y": null,
            "padding": null,
            "right": null,
            "top": null,
            "visibility": null,
            "width": null
          }
        },
        "42edeb5a9da94dbc9c61e10584fddc34": {
          "model_module": "@jupyter-widgets/controls",
          "model_name": "DescriptionStyleModel",
          "model_module_version": "1.5.0",
          "state": {
            "_model_module": "@jupyter-widgets/controls",
            "_model_module_version": "1.5.0",
            "_model_name": "DescriptionStyleModel",
            "_view_count": null,
            "_view_module": "@jupyter-widgets/base",
            "_view_module_version": "1.2.0",
            "_view_name": "StyleView",
            "description_width": ""
          }
        },
        "85f2c1179d314185b42eb6d3ce8c61c8": {
          "model_module": "@jupyter-widgets/base",
          "model_name": "LayoutModel",
          "model_module_version": "1.2.0",
          "state": {
            "_model_module": "@jupyter-widgets/base",
            "_model_module_version": "1.2.0",
            "_model_name": "LayoutModel",
            "_view_count": null,
            "_view_module": "@jupyter-widgets/base",
            "_view_module_version": "1.2.0",
            "_view_name": "LayoutView",
            "align_content": null,
            "align_items": null,
            "align_self": null,
            "border": null,
            "bottom": null,
            "display": null,
            "flex": null,
            "flex_flow": null,
            "grid_area": null,
            "grid_auto_columns": null,
            "grid_auto_flow": null,
            "grid_auto_rows": null,
            "grid_column": null,
            "grid_gap": null,
            "grid_row": null,
            "grid_template_areas": null,
            "grid_template_columns": null,
            "grid_template_rows": null,
            "height": null,
            "justify_content": null,
            "justify_items": null,
            "left": null,
            "margin": null,
            "max_height": null,
            "max_width": null,
            "min_height": null,
            "min_width": null,
            "object_fit": null,
            "object_position": null,
            "order": null,
            "overflow": null,
            "overflow_x": null,
            "overflow_y": null,
            "padding": null,
            "right": null,
            "top": null,
            "visibility": null,
            "width": null
          }
        },
        "d18775ae73c347789f1d1cfa7340ba27": {
          "model_module": "@jupyter-widgets/controls",
          "model_name": "ProgressStyleModel",
          "model_module_version": "1.5.0",
          "state": {
            "_model_module": "@jupyter-widgets/controls",
            "_model_module_version": "1.5.0",
            "_model_name": "ProgressStyleModel",
            "_view_count": null,
            "_view_module": "@jupyter-widgets/base",
            "_view_module_version": "1.2.0",
            "_view_name": "StyleView",
            "bar_color": null,
            "description_width": ""
          }
        },
        "4833d2bbe6a640b6921353ae434b2987": {
          "model_module": "@jupyter-widgets/base",
          "model_name": "LayoutModel",
          "model_module_version": "1.2.0",
          "state": {
            "_model_module": "@jupyter-widgets/base",
            "_model_module_version": "1.2.0",
            "_model_name": "LayoutModel",
            "_view_count": null,
            "_view_module": "@jupyter-widgets/base",
            "_view_module_version": "1.2.0",
            "_view_name": "LayoutView",
            "align_content": null,
            "align_items": null,
            "align_self": null,
            "border": null,
            "bottom": null,
            "display": null,
            "flex": null,
            "flex_flow": null,
            "grid_area": null,
            "grid_auto_columns": null,
            "grid_auto_flow": null,
            "grid_auto_rows": null,
            "grid_column": null,
            "grid_gap": null,
            "grid_row": null,
            "grid_template_areas": null,
            "grid_template_columns": null,
            "grid_template_rows": null,
            "height": null,
            "justify_content": null,
            "justify_items": null,
            "left": null,
            "margin": null,
            "max_height": null,
            "max_width": null,
            "min_height": null,
            "min_width": null,
            "object_fit": null,
            "object_position": null,
            "order": null,
            "overflow": null,
            "overflow_x": null,
            "overflow_y": null,
            "padding": null,
            "right": null,
            "top": null,
            "visibility": null,
            "width": null
          }
        },
        "eafe411f78ad48fb8805b1a5b84fc6f1": {
          "model_module": "@jupyter-widgets/controls",
          "model_name": "DescriptionStyleModel",
          "model_module_version": "1.5.0",
          "state": {
            "_model_module": "@jupyter-widgets/controls",
            "_model_module_version": "1.5.0",
            "_model_name": "DescriptionStyleModel",
            "_view_count": null,
            "_view_module": "@jupyter-widgets/base",
            "_view_module_version": "1.2.0",
            "_view_name": "StyleView",
            "description_width": ""
          }
        },
        "f436fccefbeb4204affd796c0a22cd16": {
          "model_module": "@jupyter-widgets/controls",
          "model_name": "HBoxModel",
          "model_module_version": "1.5.0",
          "state": {
            "_dom_classes": [],
            "_model_module": "@jupyter-widgets/controls",
            "_model_module_version": "1.5.0",
            "_model_name": "HBoxModel",
            "_view_count": null,
            "_view_module": "@jupyter-widgets/controls",
            "_view_module_version": "1.5.0",
            "_view_name": "HBoxView",
            "box_style": "",
            "children": [
              "IPY_MODEL_6c91eec28ebe4682a6ee9ff685242936",
              "IPY_MODEL_b7a78c28b0904507bb3b6e3f650a496e",
              "IPY_MODEL_1d4a05e3118449ffa1435d78db30f67c"
            ],
            "layout": "IPY_MODEL_6efc45331a2a4c25aa71cd85e80cf661"
          }
        },
        "6c91eec28ebe4682a6ee9ff685242936": {
          "model_module": "@jupyter-widgets/controls",
          "model_name": "HTMLModel",
          "model_module_version": "1.5.0",
          "state": {
            "_dom_classes": [],
            "_model_module": "@jupyter-widgets/controls",
            "_model_module_version": "1.5.0",
            "_model_name": "HTMLModel",
            "_view_count": null,
            "_view_module": "@jupyter-widgets/controls",
            "_view_module_version": "1.5.0",
            "_view_name": "HTMLView",
            "description": "",
            "description_tooltip": null,
            "layout": "IPY_MODEL_7d0b19a228274d55acea1457ed627285",
            "placeholder": "​",
            "style": "IPY_MODEL_9614e90e71b64c7f9954e34becf71f15",
            "value": "100%"
          }
        },
        "b7a78c28b0904507bb3b6e3f650a496e": {
          "model_module": "@jupyter-widgets/controls",
          "model_name": "FloatProgressModel",
          "model_module_version": "1.5.0",
          "state": {
            "_dom_classes": [],
            "_model_module": "@jupyter-widgets/controls",
            "_model_module_version": "1.5.0",
            "_model_name": "FloatProgressModel",
            "_view_count": null,
            "_view_module": "@jupyter-widgets/controls",
            "_view_module_version": "1.5.0",
            "_view_name": "ProgressView",
            "bar_style": "success",
            "description": "",
            "description_tooltip": null,
            "layout": "IPY_MODEL_c6b0c35d852d4e4e9ca48caebfeb2a3e",
            "max": 74555,
            "min": 0,
            "orientation": "horizontal",
            "style": "IPY_MODEL_a4c5688402c547b18c24e7f1a14b7ae0",
            "value": 74555
          }
        },
        "1d4a05e3118449ffa1435d78db30f67c": {
          "model_module": "@jupyter-widgets/controls",
          "model_name": "HTMLModel",
          "model_module_version": "1.5.0",
          "state": {
            "_dom_classes": [],
            "_model_module": "@jupyter-widgets/controls",
            "_model_module_version": "1.5.0",
            "_model_name": "HTMLModel",
            "_view_count": null,
            "_view_module": "@jupyter-widgets/controls",
            "_view_module_version": "1.5.0",
            "_view_name": "HTMLView",
            "description": "",
            "description_tooltip": null,
            "layout": "IPY_MODEL_d23b158742c84011a02ba73504c496bc",
            "placeholder": "​",
            "style": "IPY_MODEL_66e352a5422f4557b63a9d3b5501554f",
            "value": " 74555/74555 [00:53&lt;00:00, 1383.14it/s]"
          }
        },
        "6efc45331a2a4c25aa71cd85e80cf661": {
          "model_module": "@jupyter-widgets/base",
          "model_name": "LayoutModel",
          "model_module_version": "1.2.0",
          "state": {
            "_model_module": "@jupyter-widgets/base",
            "_model_module_version": "1.2.0",
            "_model_name": "LayoutModel",
            "_view_count": null,
            "_view_module": "@jupyter-widgets/base",
            "_view_module_version": "1.2.0",
            "_view_name": "LayoutView",
            "align_content": null,
            "align_items": null,
            "align_self": null,
            "border": null,
            "bottom": null,
            "display": null,
            "flex": null,
            "flex_flow": null,
            "grid_area": null,
            "grid_auto_columns": null,
            "grid_auto_flow": null,
            "grid_auto_rows": null,
            "grid_column": null,
            "grid_gap": null,
            "grid_row": null,
            "grid_template_areas": null,
            "grid_template_columns": null,
            "grid_template_rows": null,
            "height": null,
            "justify_content": null,
            "justify_items": null,
            "left": null,
            "margin": null,
            "max_height": null,
            "max_width": null,
            "min_height": null,
            "min_width": null,
            "object_fit": null,
            "object_position": null,
            "order": null,
            "overflow": null,
            "overflow_x": null,
            "overflow_y": null,
            "padding": null,
            "right": null,
            "top": null,
            "visibility": null,
            "width": null
          }
        },
        "7d0b19a228274d55acea1457ed627285": {
          "model_module": "@jupyter-widgets/base",
          "model_name": "LayoutModel",
          "model_module_version": "1.2.0",
          "state": {
            "_model_module": "@jupyter-widgets/base",
            "_model_module_version": "1.2.0",
            "_model_name": "LayoutModel",
            "_view_count": null,
            "_view_module": "@jupyter-widgets/base",
            "_view_module_version": "1.2.0",
            "_view_name": "LayoutView",
            "align_content": null,
            "align_items": null,
            "align_self": null,
            "border": null,
            "bottom": null,
            "display": null,
            "flex": null,
            "flex_flow": null,
            "grid_area": null,
            "grid_auto_columns": null,
            "grid_auto_flow": null,
            "grid_auto_rows": null,
            "grid_column": null,
            "grid_gap": null,
            "grid_row": null,
            "grid_template_areas": null,
            "grid_template_columns": null,
            "grid_template_rows": null,
            "height": null,
            "justify_content": null,
            "justify_items": null,
            "left": null,
            "margin": null,
            "max_height": null,
            "max_width": null,
            "min_height": null,
            "min_width": null,
            "object_fit": null,
            "object_position": null,
            "order": null,
            "overflow": null,
            "overflow_x": null,
            "overflow_y": null,
            "padding": null,
            "right": null,
            "top": null,
            "visibility": null,
            "width": null
          }
        },
        "9614e90e71b64c7f9954e34becf71f15": {
          "model_module": "@jupyter-widgets/controls",
          "model_name": "DescriptionStyleModel",
          "model_module_version": "1.5.0",
          "state": {
            "_model_module": "@jupyter-widgets/controls",
            "_model_module_version": "1.5.0",
            "_model_name": "DescriptionStyleModel",
            "_view_count": null,
            "_view_module": "@jupyter-widgets/base",
            "_view_module_version": "1.2.0",
            "_view_name": "StyleView",
            "description_width": ""
          }
        },
        "c6b0c35d852d4e4e9ca48caebfeb2a3e": {
          "model_module": "@jupyter-widgets/base",
          "model_name": "LayoutModel",
          "model_module_version": "1.2.0",
          "state": {
            "_model_module": "@jupyter-widgets/base",
            "_model_module_version": "1.2.0",
            "_model_name": "LayoutModel",
            "_view_count": null,
            "_view_module": "@jupyter-widgets/base",
            "_view_module_version": "1.2.0",
            "_view_name": "LayoutView",
            "align_content": null,
            "align_items": null,
            "align_self": null,
            "border": null,
            "bottom": null,
            "display": null,
            "flex": null,
            "flex_flow": null,
            "grid_area": null,
            "grid_auto_columns": null,
            "grid_auto_flow": null,
            "grid_auto_rows": null,
            "grid_column": null,
            "grid_gap": null,
            "grid_row": null,
            "grid_template_areas": null,
            "grid_template_columns": null,
            "grid_template_rows": null,
            "height": null,
            "justify_content": null,
            "justify_items": null,
            "left": null,
            "margin": null,
            "max_height": null,
            "max_width": null,
            "min_height": null,
            "min_width": null,
            "object_fit": null,
            "object_position": null,
            "order": null,
            "overflow": null,
            "overflow_x": null,
            "overflow_y": null,
            "padding": null,
            "right": null,
            "top": null,
            "visibility": null,
            "width": null
          }
        },
        "a4c5688402c547b18c24e7f1a14b7ae0": {
          "model_module": "@jupyter-widgets/controls",
          "model_name": "ProgressStyleModel",
          "model_module_version": "1.5.0",
          "state": {
            "_model_module": "@jupyter-widgets/controls",
            "_model_module_version": "1.5.0",
            "_model_name": "ProgressStyleModel",
            "_view_count": null,
            "_view_module": "@jupyter-widgets/base",
            "_view_module_version": "1.2.0",
            "_view_name": "StyleView",
            "bar_color": null,
            "description_width": ""
          }
        },
        "d23b158742c84011a02ba73504c496bc": {
          "model_module": "@jupyter-widgets/base",
          "model_name": "LayoutModel",
          "model_module_version": "1.2.0",
          "state": {
            "_model_module": "@jupyter-widgets/base",
            "_model_module_version": "1.2.0",
            "_model_name": "LayoutModel",
            "_view_count": null,
            "_view_module": "@jupyter-widgets/base",
            "_view_module_version": "1.2.0",
            "_view_name": "LayoutView",
            "align_content": null,
            "align_items": null,
            "align_self": null,
            "border": null,
            "bottom": null,
            "display": null,
            "flex": null,
            "flex_flow": null,
            "grid_area": null,
            "grid_auto_columns": null,
            "grid_auto_flow": null,
            "grid_auto_rows": null,
            "grid_column": null,
            "grid_gap": null,
            "grid_row": null,
            "grid_template_areas": null,
            "grid_template_columns": null,
            "grid_template_rows": null,
            "height": null,
            "justify_content": null,
            "justify_items": null,
            "left": null,
            "margin": null,
            "max_height": null,
            "max_width": null,
            "min_height": null,
            "min_width": null,
            "object_fit": null,
            "object_position": null,
            "order": null,
            "overflow": null,
            "overflow_x": null,
            "overflow_y": null,
            "padding": null,
            "right": null,
            "top": null,
            "visibility": null,
            "width": null
          }
        },
        "66e352a5422f4557b63a9d3b5501554f": {
          "model_module": "@jupyter-widgets/controls",
          "model_name": "DescriptionStyleModel",
          "model_module_version": "1.5.0",
          "state": {
            "_model_module": "@jupyter-widgets/controls",
            "_model_module_version": "1.5.0",
            "_model_name": "DescriptionStyleModel",
            "_view_count": null,
            "_view_module": "@jupyter-widgets/base",
            "_view_module_version": "1.2.0",
            "_view_name": "StyleView",
            "description_width": ""
          }
        }
      }
    }
  },
  "cells": [
    {
      "cell_type": "markdown",
      "metadata": {
        "id": "Vark7HmipFUG"
      },
      "source": [
        "# Kerasによる分析の実行"
      ]
    },
    {
      "cell_type": "markdown",
      "metadata": {
        "id": "ytjHtO4-pS33"
      },
      "source": [
        "kerasのCNNモデルを用いて、移動平均と価格（終値）との距離から一定時間後の距離の期待値を求める"
      ]
    },
    {
      "cell_type": "markdown",
      "metadata": {
        "id": "rpec2XBZpQDY"
      },
      "source": [
        "## 準備"
      ]
    },
    {
      "cell_type": "markdown",
      "metadata": {
        "id": "uKJuj4FXpl4i"
      },
      "source": [
        "### 必要なモジュールをimportする"
      ]
    },
    {
      "cell_type": "code",
      "metadata": {
        "id": "PMfJ8WRreLnM"
      },
      "source": [
        "# データ操作用ライブラリ\n",
        "import numpy as np\n",
        "import pandas as pd\n",
        "\n",
        "# 基本ライブラリ\n",
        "import os\n",
        "import sys\n",
        "import getopt\n",
        "import time\n",
        "import math\n",
        "from decimal import Decimal, ROUND_HALF_UP, ROUND_HALF_EVEN\n",
        "\n",
        "# 機会学習用ライブラリ\n",
        "from tensorflow.keras.models import Sequential, load_model\n",
        "from tensorflow.keras.layers import Dense\n",
        "from tensorflow.keras.layers import LSTM\n",
        "from tensorflow.keras.layers import Dropout\n",
        "from tensorflow.keras.layers import Activation\n",
        "from tensorflow.keras.layers import SimpleRNN\n",
        "from tensorflow.keras.layers import GRU\n",
        "from tensorflow.keras.callbacks import ModelCheckpoint, EarlyStopping, ReduceLROnPlateau, CSVLogger\n",
        "from tensorflow.keras import optimizers\n",
        "from tensorflow.keras import backend as K\n",
        "\n",
        "from sklearn.preprocessing import MinMaxScaler\n",
        "from sklearn.preprocessing import OneHotEncoder\n",
        "from sklearn.model_selection import train_test_split\n",
        "from sklearn.metrics import mean_squared_error\n",
        "from sklearn.metrics import confusion_matrix\n",
        "\n",
        "# 進捗確認用プログレスバー\n",
        "from tqdm.notebook import tqdm\n",
        "\n",
        "# データアンダーサンプリング用ライブラリ\n",
        "from imblearn.under_sampling import RandomUnderSampler\n",
        "\n",
        "# グラフ用\n",
        "from matplotlib import pyplot as plt"
      ],
      "execution_count": null,
      "outputs": []
    },
    {
      "cell_type": "markdown",
      "source": [
        "### 定数定義"
      ],
      "metadata": {
        "id": "sQltfrbDWRQI"
      }
    },
    {
      "cell_type": "code",
      "metadata": {
        "id": "AuvSnNIACDxM"
      },
      "source": [
        "# 中間層の数\n",
        "NUM_MIDDLE = 200\n",
        "\n",
        "# ニューラルネットのモデルの定数\n",
        "batch_size = 32   # 1回で投入するデータ量\n",
        "time_steps = 288  # 5M足で1日分\n",
        "epochs = 100 # モデル構築練習用の仮置き\n",
        "validation_split = 0.25 # validationデータの割合\n",
        "output_gap = 5    # 今回は各行にあるlabel列が教師データとなるため、時系列データとのgapは無い → やめ、close列のoutput_gap本後の価格で判定することにする\n",
        "value_gap = 5     # pips。現在価格からvalue_gap価格変動があると予想した場合に売買する\n",
        "learning_rate=0.0001  # 学習率"
      ],
      "execution_count": null,
      "outputs": []
    },
    {
      "cell_type": "markdown",
      "metadata": {
        "id": "8XTWgVvGpodp"
      },
      "source": [
        "## データ読み込み"
      ]
    },
    {
      "cell_type": "markdown",
      "metadata": {
        "id": "Rk3fss8q_kcr"
      },
      "source": [
        "### 学習データを読み込み"
      ]
    },
    {
      "cell_type": "code",
      "source": [
        "input_csv = 'drive/MyDrive/FX/AI/fx_cnn/data/shaped/DAT_ASCII_USDJPY_M1_2021_CONV.csv'"
      ],
      "metadata": {
        "id": "Am-4jRVzSJIV"
      },
      "execution_count": null,
      "outputs": []
    },
    {
      "cell_type": "code",
      "metadata": {
        "id": "jA31UJZiOhNd",
        "colab": {
          "base_uri": "https://localhost:8080/",
          "height": 424
        },
        "outputId": "d1980cc9-24f3-43e1-f351-03937713bbfa"
      },
      "source": [
        "# データファイル読み込み\n",
        "df = pd.read_csv(\n",
        "    input_csv,\n",
        "    sep=',',\n",
        "    converters={'open': Decimal, 'high': Decimal, 'low': Decimal, 'close': Decimal, 'Lema': Decimal, \"Mema\": Decimal, \"Sema\": Decimal,\n",
        "                \"L_Mdiff\": Decimal, \"L_Sdiff\": Decimal, \"L_Cdiff\": Decimal, \"M_Sdiff\": Decimal, \"M_Cdiff\": Decimal, \"S_Cdiff\": Decimal, \"weekday\": Decimal},\n",
        "    )\n",
        "df"
      ],
      "execution_count": null,
      "outputs": [
        {
          "output_type": "execute_result",
          "data": {
            "text/plain": [
              "             open        high         low       close      Lema      Mema  \\\n",
              "0      103.097000  103.197000  103.097000  103.195000   103.195   103.195   \n",
              "1      103.195000  103.238000  103.195000  103.213000  103.1952  103.1955   \n",
              "2      103.213000  103.229000  103.213000  103.213000  103.1954  103.1959   \n",
              "3      103.213000  103.213000  103.212000  103.213000  103.1955  103.1964   \n",
              "4      103.213000  103.229000  103.212000  103.213000  103.1957  103.1968   \n",
              "...           ...         ...         ...         ...       ...       ...   \n",
              "74622  115.075000  115.075000  115.071000  115.073000  115.0855  115.0762   \n",
              "74623  115.073000  115.084000  115.072000  115.081000  115.0855  115.0763   \n",
              "74624  115.081000  115.094000  115.078000  115.081000  115.0854  115.0764   \n",
              "74625  115.085000  115.097000  115.069000  115.095000  115.0855  115.0769   \n",
              "74626  115.094000  115.117000  115.089000  115.101000  115.0857  115.0775   \n",
              "\n",
              "           Sema  L_Mdiff  L_Sdiff    L_Cdiff  M_Sdiff    M_Cdiff    S_Cdiff  \\\n",
              "0       103.195    0.000    0.000   0.000000    0.000   0.000000   0.000000   \n",
              "1      103.1964  -0.0003  -0.0012  -0.017800  -0.0009  -0.017500  -0.016600   \n",
              "2      103.1977  -0.0005  -0.0023  -0.017600  -0.0018  -0.017100  -0.015300   \n",
              "3      103.1988  -0.0009  -0.0033  -0.017500  -0.0024  -0.016600  -0.014200   \n",
              "4      103.1999  -0.0011  -0.0042  -0.017300  -0.0031  -0.016200  -0.013100   \n",
              "...         ...      ...      ...        ...      ...        ...        ...   \n",
              "74622  115.0684   0.0093   0.0171   0.012500   0.0078   0.003200  -0.004600   \n",
              "74623  115.0694   0.0092   0.0161   0.004500   0.0069  -0.004700  -0.011600   \n",
              "74624  115.0702   0.0090   0.0152   0.004400   0.0062  -0.004600  -0.010800   \n",
              "74625  115.0722   0.0086   0.0133  -0.009500   0.0047  -0.018100  -0.022800   \n",
              "74626  115.0744   0.0082   0.0113  -0.015300   0.0031  -0.023500  -0.026600   \n",
              "\n",
              "      weekday  feature  label  \n",
              "0           6    0.032      0  \n",
              "1           6    0.016      0  \n",
              "2           6    0.016      0  \n",
              "3           6   -0.014      0  \n",
              "4           6   -0.020      0  \n",
              "...       ...      ...    ...  \n",
              "74622       4    0.000      0  \n",
              "74623       4    0.000      0  \n",
              "74624       4    0.000      0  \n",
              "74625       4    0.000      0  \n",
              "74626       4    0.000      0  \n",
              "\n",
              "[74627 rows x 16 columns]"
            ],
            "text/html": [
              "\n",
              "  <div id=\"df-57a855b9-6d1b-4261-bbfd-de9eaedd7153\">\n",
              "    <div class=\"colab-df-container\">\n",
              "      <div>\n",
              "<style scoped>\n",
              "    .dataframe tbody tr th:only-of-type {\n",
              "        vertical-align: middle;\n",
              "    }\n",
              "\n",
              "    .dataframe tbody tr th {\n",
              "        vertical-align: top;\n",
              "    }\n",
              "\n",
              "    .dataframe thead th {\n",
              "        text-align: right;\n",
              "    }\n",
              "</style>\n",
              "<table border=\"1\" class=\"dataframe\">\n",
              "  <thead>\n",
              "    <tr style=\"text-align: right;\">\n",
              "      <th></th>\n",
              "      <th>open</th>\n",
              "      <th>high</th>\n",
              "      <th>low</th>\n",
              "      <th>close</th>\n",
              "      <th>Lema</th>\n",
              "      <th>Mema</th>\n",
              "      <th>Sema</th>\n",
              "      <th>L_Mdiff</th>\n",
              "      <th>L_Sdiff</th>\n",
              "      <th>L_Cdiff</th>\n",
              "      <th>M_Sdiff</th>\n",
              "      <th>M_Cdiff</th>\n",
              "      <th>S_Cdiff</th>\n",
              "      <th>weekday</th>\n",
              "      <th>feature</th>\n",
              "      <th>label</th>\n",
              "    </tr>\n",
              "  </thead>\n",
              "  <tbody>\n",
              "    <tr>\n",
              "      <th>0</th>\n",
              "      <td>103.097000</td>\n",
              "      <td>103.197000</td>\n",
              "      <td>103.097000</td>\n",
              "      <td>103.195000</td>\n",
              "      <td>103.195</td>\n",
              "      <td>103.195</td>\n",
              "      <td>103.195</td>\n",
              "      <td>0.000</td>\n",
              "      <td>0.000</td>\n",
              "      <td>0.000000</td>\n",
              "      <td>0.000</td>\n",
              "      <td>0.000000</td>\n",
              "      <td>0.000000</td>\n",
              "      <td>6</td>\n",
              "      <td>0.032</td>\n",
              "      <td>0</td>\n",
              "    </tr>\n",
              "    <tr>\n",
              "      <th>1</th>\n",
              "      <td>103.195000</td>\n",
              "      <td>103.238000</td>\n",
              "      <td>103.195000</td>\n",
              "      <td>103.213000</td>\n",
              "      <td>103.1952</td>\n",
              "      <td>103.1955</td>\n",
              "      <td>103.1964</td>\n",
              "      <td>-0.0003</td>\n",
              "      <td>-0.0012</td>\n",
              "      <td>-0.017800</td>\n",
              "      <td>-0.0009</td>\n",
              "      <td>-0.017500</td>\n",
              "      <td>-0.016600</td>\n",
              "      <td>6</td>\n",
              "      <td>0.016</td>\n",
              "      <td>0</td>\n",
              "    </tr>\n",
              "    <tr>\n",
              "      <th>2</th>\n",
              "      <td>103.213000</td>\n",
              "      <td>103.229000</td>\n",
              "      <td>103.213000</td>\n",
              "      <td>103.213000</td>\n",
              "      <td>103.1954</td>\n",
              "      <td>103.1959</td>\n",
              "      <td>103.1977</td>\n",
              "      <td>-0.0005</td>\n",
              "      <td>-0.0023</td>\n",
              "      <td>-0.017600</td>\n",
              "      <td>-0.0018</td>\n",
              "      <td>-0.017100</td>\n",
              "      <td>-0.015300</td>\n",
              "      <td>6</td>\n",
              "      <td>0.016</td>\n",
              "      <td>0</td>\n",
              "    </tr>\n",
              "    <tr>\n",
              "      <th>3</th>\n",
              "      <td>103.213000</td>\n",
              "      <td>103.213000</td>\n",
              "      <td>103.212000</td>\n",
              "      <td>103.213000</td>\n",
              "      <td>103.1955</td>\n",
              "      <td>103.1964</td>\n",
              "      <td>103.1988</td>\n",
              "      <td>-0.0009</td>\n",
              "      <td>-0.0033</td>\n",
              "      <td>-0.017500</td>\n",
              "      <td>-0.0024</td>\n",
              "      <td>-0.016600</td>\n",
              "      <td>-0.014200</td>\n",
              "      <td>6</td>\n",
              "      <td>-0.014</td>\n",
              "      <td>0</td>\n",
              "    </tr>\n",
              "    <tr>\n",
              "      <th>4</th>\n",
              "      <td>103.213000</td>\n",
              "      <td>103.229000</td>\n",
              "      <td>103.212000</td>\n",
              "      <td>103.213000</td>\n",
              "      <td>103.1957</td>\n",
              "      <td>103.1968</td>\n",
              "      <td>103.1999</td>\n",
              "      <td>-0.0011</td>\n",
              "      <td>-0.0042</td>\n",
              "      <td>-0.017300</td>\n",
              "      <td>-0.0031</td>\n",
              "      <td>-0.016200</td>\n",
              "      <td>-0.013100</td>\n",
              "      <td>6</td>\n",
              "      <td>-0.020</td>\n",
              "      <td>0</td>\n",
              "    </tr>\n",
              "    <tr>\n",
              "      <th>...</th>\n",
              "      <td>...</td>\n",
              "      <td>...</td>\n",
              "      <td>...</td>\n",
              "      <td>...</td>\n",
              "      <td>...</td>\n",
              "      <td>...</td>\n",
              "      <td>...</td>\n",
              "      <td>...</td>\n",
              "      <td>...</td>\n",
              "      <td>...</td>\n",
              "      <td>...</td>\n",
              "      <td>...</td>\n",
              "      <td>...</td>\n",
              "      <td>...</td>\n",
              "      <td>...</td>\n",
              "      <td>...</td>\n",
              "    </tr>\n",
              "    <tr>\n",
              "      <th>74622</th>\n",
              "      <td>115.075000</td>\n",
              "      <td>115.075000</td>\n",
              "      <td>115.071000</td>\n",
              "      <td>115.073000</td>\n",
              "      <td>115.0855</td>\n",
              "      <td>115.0762</td>\n",
              "      <td>115.0684</td>\n",
              "      <td>0.0093</td>\n",
              "      <td>0.0171</td>\n",
              "      <td>0.012500</td>\n",
              "      <td>0.0078</td>\n",
              "      <td>0.003200</td>\n",
              "      <td>-0.004600</td>\n",
              "      <td>4</td>\n",
              "      <td>0.000</td>\n",
              "      <td>0</td>\n",
              "    </tr>\n",
              "    <tr>\n",
              "      <th>74623</th>\n",
              "      <td>115.073000</td>\n",
              "      <td>115.084000</td>\n",
              "      <td>115.072000</td>\n",
              "      <td>115.081000</td>\n",
              "      <td>115.0855</td>\n",
              "      <td>115.0763</td>\n",
              "      <td>115.0694</td>\n",
              "      <td>0.0092</td>\n",
              "      <td>0.0161</td>\n",
              "      <td>0.004500</td>\n",
              "      <td>0.0069</td>\n",
              "      <td>-0.004700</td>\n",
              "      <td>-0.011600</td>\n",
              "      <td>4</td>\n",
              "      <td>0.000</td>\n",
              "      <td>0</td>\n",
              "    </tr>\n",
              "    <tr>\n",
              "      <th>74624</th>\n",
              "      <td>115.081000</td>\n",
              "      <td>115.094000</td>\n",
              "      <td>115.078000</td>\n",
              "      <td>115.081000</td>\n",
              "      <td>115.0854</td>\n",
              "      <td>115.0764</td>\n",
              "      <td>115.0702</td>\n",
              "      <td>0.0090</td>\n",
              "      <td>0.0152</td>\n",
              "      <td>0.004400</td>\n",
              "      <td>0.0062</td>\n",
              "      <td>-0.004600</td>\n",
              "      <td>-0.010800</td>\n",
              "      <td>4</td>\n",
              "      <td>0.000</td>\n",
              "      <td>0</td>\n",
              "    </tr>\n",
              "    <tr>\n",
              "      <th>74625</th>\n",
              "      <td>115.085000</td>\n",
              "      <td>115.097000</td>\n",
              "      <td>115.069000</td>\n",
              "      <td>115.095000</td>\n",
              "      <td>115.0855</td>\n",
              "      <td>115.0769</td>\n",
              "      <td>115.0722</td>\n",
              "      <td>0.0086</td>\n",
              "      <td>0.0133</td>\n",
              "      <td>-0.009500</td>\n",
              "      <td>0.0047</td>\n",
              "      <td>-0.018100</td>\n",
              "      <td>-0.022800</td>\n",
              "      <td>4</td>\n",
              "      <td>0.000</td>\n",
              "      <td>0</td>\n",
              "    </tr>\n",
              "    <tr>\n",
              "      <th>74626</th>\n",
              "      <td>115.094000</td>\n",
              "      <td>115.117000</td>\n",
              "      <td>115.089000</td>\n",
              "      <td>115.101000</td>\n",
              "      <td>115.0857</td>\n",
              "      <td>115.0775</td>\n",
              "      <td>115.0744</td>\n",
              "      <td>0.0082</td>\n",
              "      <td>0.0113</td>\n",
              "      <td>-0.015300</td>\n",
              "      <td>0.0031</td>\n",
              "      <td>-0.023500</td>\n",
              "      <td>-0.026600</td>\n",
              "      <td>4</td>\n",
              "      <td>0.000</td>\n",
              "      <td>0</td>\n",
              "    </tr>\n",
              "  </tbody>\n",
              "</table>\n",
              "<p>74627 rows × 16 columns</p>\n",
              "</div>\n",
              "      <button class=\"colab-df-convert\" onclick=\"convertToInteractive('df-57a855b9-6d1b-4261-bbfd-de9eaedd7153')\"\n",
              "              title=\"Convert this dataframe to an interactive table.\"\n",
              "              style=\"display:none;\">\n",
              "        \n",
              "  <svg xmlns=\"http://www.w3.org/2000/svg\" height=\"24px\"viewBox=\"0 0 24 24\"\n",
              "       width=\"24px\">\n",
              "    <path d=\"M0 0h24v24H0V0z\" fill=\"none\"/>\n",
              "    <path d=\"M18.56 5.44l.94 2.06.94-2.06 2.06-.94-2.06-.94-.94-2.06-.94 2.06-2.06.94zm-11 1L8.5 8.5l.94-2.06 2.06-.94-2.06-.94L8.5 2.5l-.94 2.06-2.06.94zm10 10l.94 2.06.94-2.06 2.06-.94-2.06-.94-.94-2.06-.94 2.06-2.06.94z\"/><path d=\"M17.41 7.96l-1.37-1.37c-.4-.4-.92-.59-1.43-.59-.52 0-1.04.2-1.43.59L10.3 9.45l-7.72 7.72c-.78.78-.78 2.05 0 2.83L4 21.41c.39.39.9.59 1.41.59.51 0 1.02-.2 1.41-.59l7.78-7.78 2.81-2.81c.8-.78.8-2.07 0-2.86zM5.41 20L4 18.59l7.72-7.72 1.47 1.35L5.41 20z\"/>\n",
              "  </svg>\n",
              "      </button>\n",
              "      \n",
              "  <style>\n",
              "    .colab-df-container {\n",
              "      display:flex;\n",
              "      flex-wrap:wrap;\n",
              "      gap: 12px;\n",
              "    }\n",
              "\n",
              "    .colab-df-convert {\n",
              "      background-color: #E8F0FE;\n",
              "      border: none;\n",
              "      border-radius: 50%;\n",
              "      cursor: pointer;\n",
              "      display: none;\n",
              "      fill: #1967D2;\n",
              "      height: 32px;\n",
              "      padding: 0 0 0 0;\n",
              "      width: 32px;\n",
              "    }\n",
              "\n",
              "    .colab-df-convert:hover {\n",
              "      background-color: #E2EBFA;\n",
              "      box-shadow: 0px 1px 2px rgba(60, 64, 67, 0.3), 0px 1px 3px 1px rgba(60, 64, 67, 0.15);\n",
              "      fill: #174EA6;\n",
              "    }\n",
              "\n",
              "    [theme=dark] .colab-df-convert {\n",
              "      background-color: #3B4455;\n",
              "      fill: #D2E3FC;\n",
              "    }\n",
              "\n",
              "    [theme=dark] .colab-df-convert:hover {\n",
              "      background-color: #434B5C;\n",
              "      box-shadow: 0px 1px 3px 1px rgba(0, 0, 0, 0.15);\n",
              "      filter: drop-shadow(0px 1px 2px rgba(0, 0, 0, 0.3));\n",
              "      fill: #FFFFFF;\n",
              "    }\n",
              "  </style>\n",
              "\n",
              "      <script>\n",
              "        const buttonEl =\n",
              "          document.querySelector('#df-57a855b9-6d1b-4261-bbfd-de9eaedd7153 button.colab-df-convert');\n",
              "        buttonEl.style.display =\n",
              "          google.colab.kernel.accessAllowed ? 'block' : 'none';\n",
              "\n",
              "        async function convertToInteractive(key) {\n",
              "          const element = document.querySelector('#df-57a855b9-6d1b-4261-bbfd-de9eaedd7153');\n",
              "          const dataTable =\n",
              "            await google.colab.kernel.invokeFunction('convertToInteractive',\n",
              "                                                     [key], {});\n",
              "          if (!dataTable) return;\n",
              "\n",
              "          const docLinkHtml = 'Like what you see? Visit the ' +\n",
              "            '<a target=\"_blank\" href=https://colab.research.google.com/notebooks/data_table.ipynb>data table notebook</a>'\n",
              "            + ' to learn more about interactive tables.';\n",
              "          element.innerHTML = '';\n",
              "          dataTable['output_type'] = 'display_data';\n",
              "          await google.colab.output.renderOutput(dataTable, element);\n",
              "          const docLink = document.createElement('div');\n",
              "          docLink.innerHTML = docLinkHtml;\n",
              "          element.appendChild(docLink);\n",
              "        }\n",
              "      </script>\n",
              "    </div>\n",
              "  </div>\n",
              "  "
            ]
          },
          "metadata": {},
          "execution_count": 4
        }
      ]
    },
    {
      "cell_type": "markdown",
      "source": [
        "## 整数化"
      ],
      "metadata": {
        "id": "FbCgAcIgcvuE"
      }
    },
    {
      "cell_type": "markdown",
      "source": [
        "### 通貨ペアに合わせ1pipsを1の位に合わせる"
      ],
      "metadata": {
        "id": "J3UO36q-eMdf"
      }
    },
    {
      "cell_type": "code",
      "source": [
        "integerize = 100"
      ],
      "metadata": {
        "id": "KPaGa-WCc3Xy"
      },
      "execution_count": null,
      "outputs": []
    },
    {
      "cell_type": "code",
      "source": [
        "integerized_arr = (df * integerize).astype('int').values"
      ],
      "metadata": {
        "id": "6KUuKDa5dpeh"
      },
      "execution_count": null,
      "outputs": []
    },
    {
      "cell_type": "markdown",
      "source": [
        "## アンダーサンプリング"
      ],
      "metadata": {
        "id": "UpElnHjdegJf"
      }
    },
    {
      "cell_type": "code",
      "source": [
        ""
      ],
      "metadata": {
        "id": "JvIprV-veh5s"
      },
      "execution_count": null,
      "outputs": []
    },
    {
      "cell_type": "markdown",
      "metadata": {
        "id": "KCrMRbKhEbQB"
      },
      "source": [
        "### 2次元表から1次元追加し、TimeFrameごとのデータを作る"
      ]
    },
    {
      "cell_type": "code",
      "source": [
        "bars = 72 # 5分足72本＝6時間分"
      ],
      "metadata": {
        "id": "Sw4Ed4M_V0lE"
      },
      "execution_count": null,
      "outputs": []
    },
    {
      "cell_type": "code",
      "source": [
        "# 1pips(100分の1)単位に調整\n",
        "y_class = (df[0:bars]['close'] * 100).astype('int').values\n",
        "y_class"
      ],
      "metadata": {
        "colab": {
          "base_uri": "https://localhost:8080/"
        },
        "id": "qHC-wv3HWl7O",
        "outputId": "346f6212-4d3c-44b8-e47e-2035942a5817"
      },
      "execution_count": null,
      "outputs": [
        {
          "output_type": "execute_result",
          "data": {
            "text/plain": [
              "array([10319, 10321, 10321, 10321, 10321, 10322, 10322, 10322, 10319,\n",
              "       10319, 10319, 10320, 10323, 10324, 10326, 10327, 10328, 10329,\n",
              "       10326, 10329, 10328, 10327, 10323, 10324, 10321, 10316, 10312,\n",
              "       10315, 10315, 10311, 10309, 10306, 10304, 10304, 10307, 10306,\n",
              "       10306, 10308, 10308, 10308, 10310, 10311, 10311, 10309, 10307,\n",
              "       10306, 10307, 10305, 10303, 10304, 10305, 10305, 10301, 10301,\n",
              "       10302, 10301, 10299, 10298, 10299, 10298, 10299, 10298, 10299,\n",
              "       10298, 10299, 10298, 10297, 10296, 10294, 10294, 10293, 10294])"
            ]
          },
          "metadata": {},
          "execution_count": 6
        }
      ]
    },
    {
      "cell_type": "code",
      "source": [
        "type(y_class)"
      ],
      "metadata": {
        "colab": {
          "base_uri": "https://localhost:8080/"
        },
        "id": "IIKwPXOId6Aj",
        "outputId": "785d8e9b-49c4-4bb0-da7c-007aa42ea105"
      },
      "execution_count": null,
      "outputs": [
        {
          "output_type": "execute_result",
          "data": {
            "text/plain": [
              "numpy.ndarray"
            ]
          },
          "metadata": {},
          "execution_count": 17
        }
      ]
    },
    {
      "cell_type": "code",
      "source": [
        "min = y_class.min()\n",
        "min"
      ],
      "metadata": {
        "colab": {
          "base_uri": "https://localhost:8080/"
        },
        "id": "r8Uifoa3XKkH",
        "outputId": "ca7b0704-d2df-4b76-a26f-f30802539cba"
      },
      "execution_count": null,
      "outputs": [
        {
          "output_type": "execute_result",
          "data": {
            "text/plain": [
              "10293"
            ]
          },
          "metadata": {},
          "execution_count": 7
        }
      ]
    },
    {
      "cell_type": "code",
      "source": [
        "max = y_class.max()\n",
        "max"
      ],
      "metadata": {
        "colab": {
          "base_uri": "https://localhost:8080/"
        },
        "id": "Nc1t4mtdXQc4",
        "outputId": "1fdf5d88-100b-4eb4-d776-94244512e4f4"
      },
      "execution_count": null,
      "outputs": [
        {
          "output_type": "execute_result",
          "data": {
            "text/plain": [
              "10329"
            ]
          },
          "metadata": {},
          "execution_count": 8
        }
      ]
    },
    {
      "cell_type": "code",
      "source": [
        "cols = [x for x in range(min, max + 1, 1)]\n",
        "print(f'最初の5行: { cols[:5] } , 最後の5行: { cols[-5:] } , listの長さ: { len(cols) }')"
      ],
      "metadata": {
        "colab": {
          "base_uri": "https://localhost:8080/"
        },
        "id": "4-NtFMM5YJ4E",
        "outputId": "6626bf14-72a1-4500-b9cc-0807c664923a"
      },
      "execution_count": null,
      "outputs": [
        {
          "output_type": "stream",
          "name": "stdout",
          "text": [
            "最初の5行: [10293, 10294, 10295, 10296, 10297] , 最後の5行: [10325, 10326, 10327, 10328, 10329] , listの長さ: 37\n"
          ]
        }
      ]
    },
    {
      "cell_type": "code",
      "source": [
        "encoder = OneHotEncoder(categories=[cols])"
      ],
      "metadata": {
        "id": "h8q9Z36Lmrnm"
      },
      "execution_count": null,
      "outputs": []
    },
    {
      "cell_type": "code",
      "source": [
        "# encoder_data = encoder.fit_transform(y_class.reshape(-1, 1))    # df[\"label\"] -> labelのseries, values -> arrayに, reshape(-1, 1) -> 1列, 行は自動推定"
      ],
      "metadata": {
        "id": "j2nefGyhbciD"
      },
      "execution_count": null,
      "outputs": []
    },
    {
      "cell_type": "code",
      "source": [
        "# y_one = encoder_data.toarray().astype('int64')"
      ],
      "metadata": {
        "id": "gsAOxdzlmp2V"
      },
      "execution_count": null,
      "outputs": []
    },
    {
      "cell_type": "code",
      "source": [
        "encoder.set_params(sparse=False)\n",
        "encoder_data = encoder.fit_transform(y_class.reshape(-1, 1))"
      ],
      "metadata": {
        "id": "XWu8nVczjphr"
      },
      "execution_count": null,
      "outputs": []
    },
    {
      "cell_type": "code",
      "source": [
        "print(encoder_data)"
      ],
      "metadata": {
        "colab": {
          "base_uri": "https://localhost:8080/"
        },
        "id": "M3tZ5BT5isoJ",
        "outputId": "0e7f0039-ac2e-452d-c6e0-00e5b1b05758"
      },
      "execution_count": null,
      "outputs": [
        {
          "output_type": "stream",
          "name": "stdout",
          "text": [
            "[[0. 0. 0. ... 0. 0. 0.]\n",
            " [0. 0. 0. ... 0. 0. 0.]\n",
            " [0. 0. 0. ... 0. 0. 0.]\n",
            " ...\n",
            " [0. 1. 0. ... 0. 0. 0.]\n",
            " [1. 0. 0. ... 0. 0. 0.]\n",
            " [0. 1. 0. ... 0. 0. 0.]]\n"
          ]
        }
      ]
    },
    {
      "cell_type": "code",
      "source": [
        "type(encoder_data)"
      ],
      "metadata": {
        "colab": {
          "base_uri": "https://localhost:8080/"
        },
        "id": "11LiLBmdn8LY",
        "outputId": "b06ecc45-8e0a-48c9-9308-39e170b660bb"
      },
      "execution_count": null,
      "outputs": [
        {
          "output_type": "execute_result",
          "data": {
            "text/plain": [
              "numpy.ndarray"
            ]
          },
          "metadata": {},
          "execution_count": 21
        }
      ]
    },
    {
      "cell_type": "code",
      "source": [
        "encoder_data.shape"
      ],
      "metadata": {
        "colab": {
          "base_uri": "https://localhost:8080/"
        },
        "id": "TXAT_tl9oJ3m",
        "outputId": "0c5d4531-241e-4360-9d33-136cc1eee160"
      },
      "execution_count": null,
      "outputs": [
        {
          "output_type": "execute_result",
          "data": {
            "text/plain": [
              "(72, 37)"
            ]
          },
          "metadata": {},
          "execution_count": 13
        }
      ]
    },
    {
      "cell_type": "code",
      "source": [
        "y_one = np.flipud(encoder_data.T) # 転置して上下反転する。上限反転してるのは、上が小さい値(価格)になっているため"
      ],
      "metadata": {
        "id": "m7Y3ChawiujN"
      },
      "execution_count": null,
      "outputs": []
    },
    {
      "cell_type": "code",
      "source": [
        "y_one.shape"
      ],
      "metadata": {
        "colab": {
          "base_uri": "https://localhost:8080/"
        },
        "id": "0pPdH5eNjIVa",
        "outputId": "0bb714c0-f936-4e88-f3cf-2ef78729f934"
      },
      "execution_count": null,
      "outputs": [
        {
          "output_type": "execute_result",
          "data": {
            "text/plain": [
              "(37, 72)"
            ]
          },
          "metadata": {},
          "execution_count": 15
        }
      ]
    },
    {
      "cell_type": "code",
      "source": [
        "from PIL import Image"
      ],
      "metadata": {
        "id": "oR-mshfZpyyu"
      },
      "execution_count": null,
      "outputs": []
    },
    {
      "cell_type": "code",
      "source": [
        "# pil_img = Image.fromarray(y_one.astype(np.uint8) * 255).resize((362, 362))\n",
        "pil_img = Image.fromarray(y_one * 255).resize((y_one.shape[1], y_one.shape[0]))\n",
        "# pil_img.save('lena_save_pillow.jpg')\n",
        "plt.imshow(np.array(pil_img))"
      ],
      "metadata": {
        "id": "lxuDxAvepu_6",
        "colab": {
          "base_uri": "https://localhost:8080/",
          "height": 239
        },
        "outputId": "d2e9ab7f-807d-4290-f62e-c3fbf6f396b0"
      },
      "execution_count": null,
      "outputs": [
        {
          "output_type": "execute_result",
          "data": {
            "text/plain": [
              "<matplotlib.image.AxesImage at 0x7fa94135bcd0>"
            ]
          },
          "metadata": {},
          "execution_count": 19
        },
        {
          "output_type": "display_data",
          "data": {
            "text/plain": [
              "<Figure size 432x288 with 1 Axes>"
            ],
            "image/png": "[encoded data removed]"
          },
          "metadata": {
            "needs_background": "light"
          }
        }
      ]
    },
    {
      "cell_type": "markdown",
      "source": [
        "OneHotにすると何列目がいくら、なのかわからなくなるが、重要なのはチャートの動きの形なのでそこがいくらなのかは関係ない。  \n",
        "また、modelに入れるinputのshapeはどの入力データでも同じにしたいので、幅は広く取っておいたほうが良さそう(1円＝1000くらいで)  \n",
        "EMAも含めた、最大値と最小値の中間を基準に上下500で行(OneHotの列)を定義すべし"
      ],
      "metadata": {
        "id": "SnWhl5qCkLwC"
      }
    },
    {
      "cell_type": "code",
      "source": [
        "cnt = len(df['close']) - bars\n",
        "cnt"
      ],
      "metadata": {
        "colab": {
          "base_uri": "https://localhost:8080/"
        },
        "id": "Ui72AoWZmpjQ",
        "outputId": "f69a0770-2b1c-4dbc-c7e0-fe85b577c8f6"
      },
      "execution_count": null,
      "outputs": [
        {
          "output_type": "execute_result",
          "data": {
            "text/plain": [
              "74555"
            ]
          },
          "metadata": {},
          "execution_count": 6
        }
      ]
    },
    {
      "cell_type": "code",
      "source": [
        "diff_max =  0\n",
        "for i in tqdm(range(cnt)):\n",
        "  tm_steps = (df[i:i+bars]['close'] * 100).astype('int')\n",
        "  min = tm_steps.min()\n",
        "  max = tm_steps.max()\n",
        "  if diff_max < (max - min):\n",
        "    diff_max = (max - min)\n",
        "    print(f'i = { i }')\n",
        "\n",
        "diff_max"
      ],
      "metadata": {
        "colab": {
          "base_uri": "https://localhost:8080/",
          "height": 535,
          "referenced_widgets": [
            "9e082989c9604f32a7d007c78226f977",
            "e9bf9ff7a78a42bda928ce5b48225a6f",
            "8f788cbf447542a894f73d1de33576b9",
            "972b7d02c8544005b5979c83a5175f1c",
            "5aca222613194bc282b0f8c8344d1c49",
            "eba65a8fa08248a09c5f0ad64552795b",
            "14ae1825d8d34cecaca14eb520a4637f",
            "020b54a58c894e9ba08cc7c79bd22f47",
            "cd34d00dd993420fb933bda1ede90566",
            "84fd33529a164c30b68d45d8a182bc76",
            "402286dd7243480c9687076af7be4ce4"
          ]
        },
        "id": "z3_21OWjnUlU",
        "outputId": "e12fc20d-7a79-4f36-9600-b1f37f1c5dd1"
      },
      "execution_count": null,
      "outputs": [
        {
          "output_type": "display_data",
          "data": {
            "text/plain": [
              "  0%|          | 0/74555 [00:00<?, ?it/s]"
            ],
            "application/vnd.jupyter.widget-view+json": {
              "version_major": 2,
              "version_minor": 0,
              "model_id": "9e082989c9604f32a7d007c78226f977"
            }
          },
          "metadata": {}
        },
        {
          "output_type": "stream",
          "name": "stdout",
          "text": [
            "i = 0\n",
            "i = 134\n",
            "i = 136\n",
            "i = 137\n",
            "i = 138\n",
            "i = 703\n",
            "i = 712\n",
            "i = 714\n",
            "i = 717\n",
            "i = 718\n",
            "i = 719\n",
            "i = 9084\n",
            "i = 9085\n",
            "i = 9086\n",
            "i = 10213\n",
            "i = 10215\n",
            "i = 19123\n",
            "i = 19124\n",
            "i = 25738\n",
            "i = 26638\n",
            "i = 26641\n",
            "i = 26642\n",
            "i = 26647\n",
            "i = 26649\n",
            "i = 26650\n",
            "i = 67191\n",
            "i = 67192\n"
          ]
        },
        {
          "output_type": "execute_result",
          "data": {
            "text/plain": [
              "116"
            ]
          },
          "metadata": {},
          "execution_count": 22
        }
      ]
    },
    {
      "cell_type": "markdown",
      "source": [
        "上記より、1000ではダメで、1200カラムくらいのOneHotを作ったほうが良さそう  \n",
        "→誤り。120で。"
      ],
      "metadata": {
        "id": "u5iKuTvRo2TF"
      }
    },
    {
      "cell_type": "code",
      "source": [
        "price_steps = 120"
      ],
      "metadata": {
        "id": "63u34GB7pZ10"
      },
      "execution_count": null,
      "outputs": []
    },
    {
      "cell_type": "markdown",
      "source": [
        "下記を実行すると、メモリを食い尽くしてクラッシュする。なんとかしてデータ量を減らす必要がある  \n",
        "このタイミングでアンダーサンプリングしてしまうのも手かもしれない。  \n",
        "下げ、横ばい、上げを1:2:1の割合に分け、（インデックスがぐちゃぐちゃになるので）インデックスでソートした後、インデックス - bars～インデックスまでをひとかたまりにしてtime_seriesとする、みたいな"
      ],
      "metadata": {
        "id": "bGFiO7LMza6r"
      }
    },
    {
      "cell_type": "markdown",
      "source": [
        "→steps数を120にしたら意外とメモリに収まったのでとりあえずOK。  \n",
        "　本気で対策するなら\"yield\"と\"fit_generator\"で調べるべし  \n",
        "　ここも https://aotamasaki.hatenablog.com/entry/2018/08/27/124349"
      ],
      "metadata": {
        "id": "wFx3RKjHuI6w"
      }
    },
    {
      "cell_type": "code",
      "source": [
        "# y_class = (df['close'] * 100).astype('int').values\n",
        "# y_class"
      ],
      "metadata": {
        "colab": {
          "base_uri": "https://localhost:8080/"
        },
        "id": "i3yVrxXawRo-",
        "outputId": "55d6d886-1a1a-44d1-956c-30b08add96b6"
      },
      "execution_count": null,
      "outputs": [
        {
          "output_type": "execute_result",
          "data": {
            "text/plain": [
              "array([10319, 10321, 10321, ..., 11508, 11509, 11510])"
            ]
          },
          "metadata": {},
          "execution_count": 7
        }
      ]
    },
    {
      "cell_type": "code",
      "source": [
        "# x = np.zeros((cnt, price_steps, bars))\n",
        "# print(x.shape)\n",
        "# y_class = (df['close'] * 100).astype('int').values\n",
        "# for i in tqdm(range(cnt)):\n",
        "#   # y_class = (df[i:i+bars]['close'] * 100).astype('int').values\n",
        "#   y_frame = y_class[i:i+bars]\n",
        "#   min = y_frame.min()\n",
        "#   max = y_frame.max()\n",
        "#   mid = (max - min) // 2 + min\n",
        "#   range_min = mid - price_steps // 2\n",
        "#   range_max = range_min + price_steps\n",
        "\n",
        "#   # cols = [tmp for tmp in range(range_min, range_max, 1)]\n",
        "#   cols = list(range(range_min, range_max, 1))\n",
        "#   encoder = OneHotEncoder(categories=[cols], sparse=False)\n",
        "#   encoder_data = encoder.fit_transform(y_frame.reshape(-1, 1))\n",
        "#   x[i] = np.flipud(encoder_data.T)"
      ],
      "metadata": {
        "id": "w_esFrXSpLL7",
        "colab": {
          "base_uri": "https://localhost:8080/",
          "height": 66,
          "referenced_widgets": [
            "fdf2ecdc08f643d0bbfa69ada669ea16",
            "94b97da990674a6eb4b4e07750616444",
            "5247d7088961463b8297753c577ee349",
            "17e3a2e9c834408c88df91534b87e174",
            "355989e57e524270bd34ec0789583085",
            "de28a7ce8ae246c594f8e43d27cedad4",
            "42edeb5a9da94dbc9c61e10584fddc34",
            "85f2c1179d314185b42eb6d3ce8c61c8",
            "d18775ae73c347789f1d1cfa7340ba27",
            "4833d2bbe6a640b6921353ae434b2987",
            "eafe411f78ad48fb8805b1a5b84fc6f1"
          ]
        },
        "outputId": "ec75b052-1ccb-4d17-e974-02310930b347"
      },
      "execution_count": null,
      "outputs": [
        {
          "output_type": "stream",
          "name": "stdout",
          "text": [
            "(74555, 120, 72)\n"
          ]
        },
        {
          "output_type": "display_data",
          "data": {
            "text/plain": [
              "  0%|          | 0/74555 [00:00<?, ?it/s]"
            ],
            "application/vnd.jupyter.widget-view+json": {
              "version_major": 2,
              "version_minor": 0,
              "model_id": "fdf2ecdc08f643d0bbfa69ada669ea16"
            }
          },
          "metadata": {}
        }
      ]
    },
    {
      "cell_type": "code",
      "source": [
        "# pil_img = Image.fromarray(x[67192] * 255).resize((x[67192].shape[1], x[67192].shape[0]))\n",
        "# plt.imshow(np.array(pil_img))"
      ],
      "metadata": {
        "colab": {
          "base_uri": "https://localhost:8080/",
          "height": 285
        },
        "id": "ZVWlSLc4sCxJ",
        "outputId": "9152dc4b-d042-4e36-fb39-47df8c750068"
      },
      "execution_count": null,
      "outputs": [
        {
          "output_type": "execute_result",
          "data": {
            "text/plain": [
              "<matplotlib.image.AxesImage at 0x7f419d64e110>"
            ]
          },
          "metadata": {},
          "execution_count": 11
        },
        {
          "output_type": "display_data",
          "data": {
            "text/plain": [
              "<Figure size 432x288 with 1 Axes>"
            ],
            "image/png": "[encoded data removed]"
          },
          "metadata": {
            "needs_background": "light"
          }
        }
      ]
    },
    {
      "cell_type": "code",
      "source": [
        "# del x"
      ],
      "metadata": {
        "id": "KcII9-f6yq4k"
      },
      "execution_count": null,
      "outputs": []
    },
    {
      "cell_type": "code",
      "source": [
        "def build_timeseries(input_data, label_data, time_steps=72, price_steps=120):\n",
        "  dimention_0 = input_data.shape[0] - time_steps\n",
        "  x = np.zeros((dimention_0, price_steps, time_steps))\n",
        "  y = np.zeros((dimention_0,))\n",
        "  print(x.shape)\n",
        "  print(y.shape)\n",
        "\n",
        "  x_class = (input_data * 100).astype('int').values\n",
        "\n",
        "  for i in tqdm(range(dimention_0)):\n",
        "    x_frame = x_class[i:i+time_steps]\n",
        "    min = x_frame.min()\n",
        "    max = x_frame.max()\n",
        "    mid = (max - min) // 2 + min\n",
        "    range_min = mid - price_steps // 2\n",
        "    range_max = range_min + price_steps\n",
        "\n",
        "    cols = list(range(range_min, range_max, 1))\n",
        "    encoder = OneHotEncoder(categories=[cols], sparse=False)\n",
        "    encoder_data = encoder.fit_transform(x_frame.reshape(-1, 1))\n",
        "    x[i] = np.flipud(encoder_data.T)\n",
        "    y[i] = label_data[i+time_steps]\n",
        "\n",
        "  print(\"length of time-series i/o\", x.shape, y.shape)\n",
        "  return x, y"
      ],
      "metadata": {
        "id": "FhQ-ZFTiyvU1"
      },
      "execution_count": null,
      "outputs": []
    },
    {
      "cell_type": "code",
      "source": [
        "# 深さ方向も考慮したちょい改造\n",
        "def build_timeseries(input_data, label_data, time_steps=72, price_steps=120):\n",
        "  dimention_0 = input_data.shape[0] - time_steps\n",
        "  x = np.zeros((dimention_0, price_steps, time_steps, input_data.shape[1]))\n",
        "  y = np.zeros((dimention_0,))\n",
        "  print(x.shape)\n",
        "  print(y.shape)\n",
        "\n",
        "  x_class = (input_data * 100).astype('int').values\n",
        "\n",
        "  for i in tqdm(range(dimention_0)):\n",
        "    x_frame = x_class[i:i+time_steps]\n",
        "    min = x_frame.min()\n",
        "    max = x_frame.max()\n",
        "    mid = (max - min) // 2 + min\n",
        "    range_min = mid - price_steps // 2\n",
        "    range_max = range_min + price_steps\n",
        "\n",
        "    cols = list(range(range_min, range_max, 1))\n",
        "    encoder = OneHotEncoder(categories=[cols], sparse=False)\n",
        "    z = []\n",
        "    for j in (range(input_data.shape[1])):\n",
        "      encoder_data = encoder.fit_transform(x_frame[:, j].reshape(-1, 1))\n",
        "      z.append(np.flipud(encoder_data.T))\n",
        "    x[i] = np.dstack(z)\n",
        "    del z\n",
        "    y[i] = label_data[i+time_steps]\n",
        "\n",
        "  print(\"length of time-series i/o\", x.shape, y.shape)\n",
        "  return x, y"
      ],
      "metadata": {
        "id": "RTwUFX6Q4RsE"
      },
      "execution_count": null,
      "outputs": []
    },
    {
      "cell_type": "code",
      "source": [
        "x_close = df[['close', 'Lema', 'Mema', 'Sema']]\n",
        "y_class = df['label']"
      ],
      "metadata": {
        "id": "0x1sMgiE34h3"
      },
      "execution_count": null,
      "outputs": []
    },
    {
      "cell_type": "code",
      "source": [
        "X_all, y_all = build_timeseries(x_close, y_class)"
      ],
      "metadata": {
        "id": "2z8GSguxBxRE"
      },
      "execution_count": null,
      "outputs": []
    },
    {
      "cell_type": "code",
      "source": [
        "# x_close = df['close']\n",
        "# x_L_ema = df['Lema']\n",
        "# x_M_ema = df['Mema']\n",
        "# x_S_ema = df['Sema']\n",
        "# y_class = df['label']"
      ],
      "metadata": {
        "id": "WvRQk9YliHU3"
      },
      "execution_count": null,
      "outputs": []
    },
    {
      "cell_type": "code",
      "source": [
        "# X_all, y_all = build_timeseries(x_close, y_class)"
      ],
      "metadata": {
        "id": "tJkmjHtW30Pi"
      },
      "execution_count": null,
      "outputs": []
    },
    {
      "cell_type": "code",
      "source": [
        "# # EMAも2次元画像化する\n",
        "# X_L, _ = build_timeseries(x_L_ema, y_class)\n",
        "# X_M, _ = build_timeseries(x_M_ema, y_class)\n",
        "# X_S, _ = build_timeseries(x_S_ema, y_class)"
      ],
      "metadata": {
        "id": "xlr31RXK2Ew6",
        "colab": {
          "base_uri": "https://localhost:8080/",
          "height": 101,
          "referenced_widgets": [
            "f436fccefbeb4204affd796c0a22cd16",
            "6c91eec28ebe4682a6ee9ff685242936",
            "b7a78c28b0904507bb3b6e3f650a496e",
            "1d4a05e3118449ffa1435d78db30f67c",
            "6efc45331a2a4c25aa71cd85e80cf661",
            "7d0b19a228274d55acea1457ed627285",
            "9614e90e71b64c7f9954e34becf71f15",
            "c6b0c35d852d4e4e9ca48caebfeb2a3e",
            "a4c5688402c547b18c24e7f1a14b7ae0",
            "d23b158742c84011a02ba73504c496bc",
            "66e352a5422f4557b63a9d3b5501554f"
          ]
        },
        "outputId": "20a8793d-a41a-4b34-cd31-26ee6ef8c4a7"
      },
      "execution_count": null,
      "outputs": [
        {
          "output_type": "stream",
          "name": "stdout",
          "text": [
            "(74555, 120, 72)\n",
            "(74555,)\n"
          ]
        },
        {
          "output_type": "display_data",
          "data": {
            "text/plain": [
              "  0%|          | 0/74555 [00:00<?, ?it/s]"
            ],
            "application/vnd.jupyter.widget-view+json": {
              "version_major": 2,
              "version_minor": 0,
              "model_id": "f436fccefbeb4204affd796c0a22cd16"
            }
          },
          "metadata": {}
        },
        {
          "output_type": "stream",
          "name": "stdout",
          "text": [
            "length of time-series i/o (74555, 120, 72) (74555,)\n"
          ]
        }
      ]
    },
    {
      "cell_type": "code",
      "source": [
        "# # そして、深さ方向にマージする\n",
        "# X_all = np.dstack([X_all, X_L, X_M, X_S])"
      ],
      "metadata": {
        "id": "KF9ylMl52d8x"
      },
      "execution_count": null,
      "outputs": []
    },
    {
      "cell_type": "code",
      "source": [
        "pil_img = Image.fromarray(X_all[67192] * 255).resize((X_all[67192].shape[1], X_all[67192].shape[0]))\n",
        "plt.imshow(np.array(pil_img))"
      ],
      "metadata": {
        "colab": {
          "base_uri": "https://localhost:8080/",
          "height": 285
        },
        "id": "JrMALZLE4Q6I",
        "outputId": "50d8c324-46ae-4add-fb5b-29190c24dd6f"
      },
      "execution_count": null,
      "outputs": [
        {
          "output_type": "execute_result",
          "data": {
            "text/plain": [
              "<matplotlib.image.AxesImage at 0x7f419bed6150>"
            ]
          },
          "metadata": {},
          "execution_count": 22
        },
        {
          "output_type": "display_data",
          "data": {
            "text/plain": [
              "<Figure size 432x288 with 1 Axes>"
            ],
            "image/png": "[encoded data removed]"
          },
          "metadata": {
            "needs_background": "light"
          }
        }
      ]
    },
    {
      "cell_type": "code",
      "source": [
        "y_all"
      ],
      "metadata": {
        "colab": {
          "base_uri": "https://localhost:8080/"
        },
        "id": "k39A-zEh4XjM",
        "outputId": "13918357-0d3e-4aa8-8adc-f9baa494b649"
      },
      "execution_count": null,
      "outputs": [
        {
          "output_type": "execute_result",
          "data": {
            "text/plain": [
              "array([0., 0., 1., ..., 0., 0., 0.])"
            ]
          },
          "metadata": {},
          "execution_count": 23
        }
      ]
    },
    {
      "cell_type": "code",
      "source": [
        "# # 入力データからインプットとアウトプットのセットを作成(間引き前)\n",
        "# X_all, y_all = build_timeseries(X_array, y_class, time_steps, output_gap)"
      ],
      "metadata": {
        "id": "b68QENJFkqqy",
        "colab": {
          "base_uri": "https://localhost:8080/",
          "height": 67,
          "referenced_widgets": [
            "52c4ce6b74a5434bb479e872423c5e26",
            "7ae24ef60f8e4fb794a3e1bf98c9f4c0",
            "9003075c518c4c6fb92a3a865cfdde0d",
            "7ba92e1e77624898bfbf42ae32a0169b",
            "a86166c54b6040cc97d6e51ce5421969",
            "3c781194406247f99deddf5e8335f056",
            "28436f3b0e62480fbf3183f5f218bf45",
            "5d9fc2c14bdb4795bc2e3af6448953c5",
            "c71a2c115a544f5c8de74c4289f9a1e6",
            "a7df44ff4f22439fadda6341af825027",
            "d223f9199cef4207a52645913ce6830a"
          ]
        },
        "outputId": "f85b42e7-7915-4960-e657-a4be791f6091"
      },
      "execution_count": null,
      "outputs": [
        {
          "output_type": "display_data",
          "data": {
            "text/plain": [
              "  0%|          | 0/74334 [00:00<?, ?it/s]"
            ],
            "application/vnd.jupyter.widget-view+json": {
              "version_major": 2,
              "version_minor": 0,
              "model_id": "52c4ce6b74a5434bb479e872423c5e26"
            }
          },
          "metadata": {}
        },
        {
          "output_type": "stream",
          "name": "stdout",
          "text": [
            "length of time-series i/o (74334, 288, 10) (74334,)\n"
          ]
        }
      ]
    }
  ]
}